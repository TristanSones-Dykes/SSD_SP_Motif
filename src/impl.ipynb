{
 "cells": [
  {
   "cell_type": "code",
   "execution_count": 1,
   "metadata": {},
   "outputs": [
    {
     "name": "stdout",
     "output_type": "stream",
     "text": [
      ">YMR256C  | Saccharomyces cerevisiae S288C | cytochrome c oxidase subunit VII | protein | length=60\n",
      "MANKVIQLQKIFQSSTKPLWWRHPRSALYLYPFYAIFAVAVVTPLLYIPNAIRGIKAKKA\n",
      ">YEL064C  | Saccharomyces cerevisiae S288C | Avt2p | protein | length=60\n",
      "MSELGEYSKLENKELRTEFELTNFPFPGTTDNDSDDGSQGQNSLNIITPDMDDTLVNDVL\n",
      ">YPR156C  | Saccharomyces cerevisiae S288C | spermine transporter | protein | length=60\n",
      "MNRQESINSFNSDETSSLSDVESQQPQQYIPSESGSKSNMAPNQLKLTRTETVKSLQDMG\n",
      ">YOR003W  | Saccharomyces cerevisiae S288C | putative subtilisin-like protease YSP3 | protein | length=60\n",
      "MKFSTILPILWANCCLCMIIPDFDGIVRFIENIDGTRSVRAGEGLGQHDPGNFHTEHQHV\n",
      ">YER087C-B  | Saccharomyces cerevisiae S288C | Arf family guanine nucleotide exchange factor SBH1 | protein | length=60\n",
      "MSSPTPPGGQRTLQKRKQGSSQKVAASAPKKNTNSNNSILKIYSDEATGLRVDPLVVLFL\n",
      ">YAR066W  | Saccharomyces cerevisiae S288C | hypothetical protein | protein | length=60\n",
      "MFNRFNKFQAAVALALLSRGALGDSYTNSTSSADLSSITSVSSASASATASDSLSSSDGT\n",
      ">YHR215W  | Saccharomyces cerevisiae S288C | acid phosphatase PHO12 | protein | length=60\n",
      "MLKSAVYSILAASLVNAGTIPLGKLSDIDKIGTQTEIFPFLGGSGPYYSFPGDYGISRDL\n",
      ">YEL004W  | Saccharomyces cerevisiae S288C | Yea4p | protein | length=60\n",
      "MWNSLKAFALVFGGCCSNVITFETLMSNETGSINNLITFCQFLFVTCQGLPEFLDVHQPF\n",
      ">YDR329C  | Saccharomyces cerevisiae S288C | Pex3p | protein | length=60\n",
      "MAPNQRSRSLLQRHRGKVLISLTGIAALFTTGSVVVFFVKRWLYKQQLRITEQHFIKEQI\n",
      ">YIL011W  | Saccharomyces cerevisiae S288C | Tir3p | protein | length=60\n",
      "MSFTKIAALLAVAAASTQLVSAEVGQYEIVEFDAILADVKANLEQYMSLAMNNPDFTLPS\n",
      "\n"
     ]
    }
   ],
   "source": [
    "from bs4 import BeautifulSoup as bs\n",
    "import requests\n",
    "import mechanicalsoup\n",
    "\n",
    "# url for phobius\n",
    "url = \"https://phobius.sbc.su.se/index.html\"\n",
    "\n",
    "# read in fasta file as text\n",
    "single_protein_fasta = open(\"../data/Proteins/example_protein.fasta\", \"r\").read()\n",
    "ten_protein_fasta = open(\"../data/Proteins/ten_tslil_protein_strings.fasta\", \"r\").read()\n",
    "print(ten_protein_fasta)"
   ]
  },
  {
   "cell_type": "code",
   "execution_count": 2,
   "metadata": {},
   "outputs": [
    {
     "name": "stdout",
     "output_type": "stream",
     "text": [
      "<textarea cols=\"80\" name=\"protseq\" rows=\"6\"></textarea>\n",
      "<input name=\"protfile\" size=\"15\" style=\"font-family: helvetica,arial,sans-serif;\" type=\"file\"/>\n",
      "<input name=\"format\" type=\"radio\" value=\"short\"/>\n",
      "<input name=\"format\" type=\"radio\" value=\"nog\"/>\n",
      "<input checked=\"checked\" name=\"format\" type=\"radio\" value=\"plp\"/>\n",
      "<input type=\"submit\"/>\n",
      "<input type=\"reset\"/>\n"
     ]
    }
   ],
   "source": [
    "#instantiate browser, open url, select form\n",
    "browser = mechanicalsoup.StatefulBrowser(soup_config={'features': 'html.parser'})\n",
    "browser.open(url)\n",
    "browser.select_form('form')\n",
    "\n",
    "browser.form.print_summary()"
   ]
  },
  {
   "cell_type": "code",
   "execution_count": 3,
   "metadata": {},
   "outputs": [
    {
     "name": "stdout",
     "output_type": "stream",
     "text": [
      "<textarea cols=\"80\" name=\"protseq\" rows=\"6\">&gt;YMR256C  | Saccharomyces cerevisiae S288C | cytochrome c oxidase subunit VII | protein | length=60\n",
      "MANKVIQLQKIFQSSTKPLWWRHPRSALYLYPFYAIFAVAVVTPLLYIPNAIRGIKAKKA\n",
      "&gt;YEL064C  | Saccharomyces cerevisiae S288C | Avt2p | protein | length=60\n",
      "MSELGEYSKLENKELRTEFELTNFPFPGTTDNDSDDGSQGQNSLNIITPDMDDTLVNDVL\n",
      "&gt;YPR156C  | Saccharomyces cerevisiae S288C | spermine transporter | protein | length=60\n",
      "MNRQESINSFNSDETSSLSDVESQQPQQYIPSESGSKSNMAPNQLKLTRTETVKSLQDMG\n",
      "&gt;YOR003W  | Saccharomyces cerevisiae S288C | putative subtilisin-like protease YSP3 | protein | length=60\n",
      "MKFSTILPILWANCCLCMIIPDFDGIVRFIENIDGTRSVRAGEGLGQHDPGNFHTEHQHV\n",
      "&gt;YER087C-B  | Saccharomyces cerevisiae S288C | Arf family guanine nucleotide exchange factor SBH1 | protein | length=60\n",
      "MSSPTPPGGQRTLQKRKQGSSQKVAASAPKKNTNSNNSILKIYSDEATGLRVDPLVVLFL\n",
      "&gt;YAR066W  | Saccharomyces cerevisiae S288C | hypothetical protein | protein | length=60\n",
      "MFNRFNKFQAAVALALLSRGALGDSYTNSTSSADLSSITSVSSASASATASDSLSSSDGT\n",
      "&gt;YHR215W  | Saccharomyces cerevisiae S288C | acid phosphatase PHO12 | protein | length=60\n",
      "MLKSAVYSILAASLVNAGTIPLGKLSDIDKIGTQTEIFPFLGGSGPYYSFPGDYGISRDL\n",
      "&gt;YEL004W  | Saccharomyces cerevisiae S288C | Yea4p | protein | length=60\n",
      "MWNSLKAFALVFGGCCSNVITFETLMSNETGSINNLITFCQFLFVTCQGLPEFLDVHQPF\n",
      "&gt;YDR329C  | Saccharomyces cerevisiae S288C | Pex3p | protein | length=60\n",
      "MAPNQRSRSLLQRHRGKVLISLTGIAALFTTGSVVVFFVKRWLYKQQLRITEQHFIKEQI\n",
      "&gt;YIL011W  | Saccharomyces cerevisiae S288C | Tir3p | protein | length=60\n",
      "MSFTKIAALLAVAAASTQLVSAEVGQYEIVEFDAILADVKANLEQYMSLAMNNPDFTLPS</textarea>\n",
      "<input name=\"protfile\" size=\"15\" style=\"font-family: helvetica,arial,sans-serif;\" type=\"file\"/>\n",
      "<input name=\"format\" type=\"radio\" value=\"short\"/>\n",
      "<input checked=\"\" name=\"format\" type=\"radio\" value=\"nog\"/>\n",
      "<input name=\"format\" type=\"radio\" value=\"plp\"/>\n",
      "<input type=\"submit\"/>\n",
      "<input type=\"reset\"/>\n"
     ]
    }
   ],
   "source": [
    "# fill in form and check\n",
    "browser[\"protseq\"] = ten_protein_fasta\n",
    "browser[\"format\"] = \"nog\"\n",
    "browser.form.print_summary()\n",
    "# browser.launch_browser()"
   ]
  },
  {
   "cell_type": "code",
   "execution_count": 5,
   "metadata": {},
   "outputs": [
    {
     "name": "stdout",
     "output_type": "stream",
     "text": [
      "<!DOCTYPE html\n",
      "\tPUBLIC \"-//W3C//DTD XHTML 1.0 Transitional//EN\"\n",
      "\t \"http://www.w3.org/TR/xhtml1/DTD/xhtml1-transitional.dtd\">\n",
      "<html xmlns=\"http://www.w3.org/1999/xhtml\" lang=\"en-US\" xml:lang=\"en-US\">\n",
      "<head>\n",
      "<title>Phobius prediction</title>\n",
      "<meta http-equiv=\"Content-Type\" content=\"text/html; charset=iso-8859-1\" />\n",
      "</head>\n",
      "<body>\n",
      "<h2>Phobius prediction</h2><hr /><pre>ID   YMR256C\n",
      "FT   TOPO_DOM      1     27       NON CYTOPLASMIC.\n",
      "FT   TRANSMEM     28     48       \n",
      "FT   TOPO_DOM     49     60       CYTOPLASMIC.\n",
      "//\n",
      "ID   YEL064C\n",
      "FT   TOPO_DOM      1     60       NON CYTOPLASMIC.\n",
      "//\n",
      "ID   YPR156C\n",
      "FT   TOPO_DOM      1     60       NON CYTOPLASMIC.\n",
      "//\n",
      "ID   YOR003W\n",
      "FT   SIGNAL        1     17       \n",
      "FT   REGION        1      2       N-REGION.\n",
      "FT   REGION        3     12       H-REGION.\n",
      "FT   REGION       13     17       C-REGION.\n",
      "FT   TOPO_DOM     18     60       NON CYTOPLASMIC.\n",
      "//\n",
      "ID   YER087C-B\n",
      "FT   TOPO_DOM      1     60       NON CYTOPLASMIC.\n",
      "//\n",
      "ID   YAR066W\n",
      "FT   SIGNAL        1     23       \n",
      "FT   REGION        1      7       N-REGION.\n",
      "FT   REGION        8     18       H-REGION.\n",
      "FT   REGION       19     23       C-REGION.\n",
      "FT   TOPO_DOM     24     60       NON CYTOPLASMIC.\n",
      "//\n",
      "ID   YHR215W\n",
      "FT   SIGNAL        1     17       \n",
      "FT   REGION        1      3       N-REGION.\n",
      "FT   REGION        4     12       H-REGION.\n",
      "FT   REGION       13     17       C-REGION.\n",
      "FT   TOPO_DOM     18     60       NON CYTOPLASMIC.\n",
      "//\n",
      "ID   YEL004W\n",
      "FT   SIGNAL        1     21       \n",
      "FT   REGION        1      6       N-REGION.\n",
      "FT   REGION        7     16       H-REGION.\n",
      "FT   REGION       17     21       C-REGION.\n",
      "FT   TOPO_DOM     22     60       NON CYTOPLASMIC.\n",
      "//\n",
      "ID   YDR329C\n",
      "FT   TOPO_DOM      1     17       NON CYTOPLASMIC.\n",
      "FT   TRANSMEM     18     39       \n",
      "FT   TOPO_DOM     40     60       CYTOPLASMIC.\n",
      "//\n",
      "ID   YIL011W\n",
      "FT   SIGNAL        1     22       \n",
      "FT   REGION        1      5       N-REGION.\n",
      "FT   REGION        6     17       H-REGION.\n",
      "FT   REGION       18     22       C-REGION.\n",
      "FT   TOPO_DOM     23     60       NON CYTOPLASMIC.\n",
      "//\n",
      "</pre><hr><script src=\"http://www.google-analytics.com/urchin.js\" type=\"text/javascript\"></script><script type=\"text/javascript\">_uacct = \"UA-2878997-1\";urchinTracker();</script>\n",
      "\n",
      "</body>\n",
      "</html>\n"
     ]
    }
   ],
   "source": [
    "response = browser.submit_selected()\n",
    "print(response.text)"
   ]
  },
  {
   "cell_type": "code",
   "execution_count": 35,
   "metadata": {},
   "outputs": [
    {
     "name": "stdout",
     "output_type": "stream",
     "text": [
      "<pre>ID   YMR256C\n",
      "FT   TOPO_DOM      1     27       NON CYTOPLASMIC.\n",
      "FT   TRANSMEM     28     48       \n",
      "FT   TOPO_DOM     49     60       CYTOPLASMIC.\n",
      "//\n",
      "ID   YEL064C\n",
      "FT   TOPO_DOM      1     60       NON CYTOPLASMIC.\n",
      "//\n",
      "ID   YPR156C\n",
      "FT   TOPO_DOM      1     60       NON CYTOPLASMIC.\n",
      "//\n",
      "ID   YOR003W\n",
      "FT   SIGNAL        1     17       \n",
      "FT   REGION        1      2       N-REGION.\n",
      "FT   REGION        3     12       H-REGION.\n",
      "FT   REGION       13     17       C-REGION.\n",
      "FT   TOPO_DOM     18     60       NON CYTOPLASMIC.\n",
      "//\n",
      "ID   YER087C-B\n",
      "FT   TOPO_DOM      1     60       NON CYTOPLASMIC.\n",
      "//\n",
      "ID   YAR066W\n",
      "FT   SIGNAL        1     23       \n",
      "FT   REGION        1      7       N-REGION.\n",
      "FT   REGION        8     18       H-REGION.\n",
      "FT   REGION       19     23       C-REGION.\n",
      "FT   TOPO_DOM     24     60       NON CYTOPLASMIC.\n",
      "//\n",
      "ID   YHR215W\n",
      "FT   SIGNAL        1     17       \n",
      "FT   REGION        1      3       N-REGION.\n",
      "FT   REGION        4     12       H-REGION.\n",
      "FT   REGION       13     17       C-REGION.\n",
      "FT   TOPO_DOM     18     60       NON CYTOPLASMIC.\n",
      "//\n",
      "ID   YEL004W\n",
      "FT   SIGNAL        1     21       \n",
      "FT   REGION        1      6       N-REGION.\n",
      "FT   REGION        7     16       H-REGION.\n",
      "FT   REGION       17     21       C-REGION.\n",
      "FT   TOPO_DOM     22     60       NON CYTOPLASMIC.\n",
      "//\n",
      "ID   YDR329C\n",
      "FT   TOPO_DOM      1     17       NON CYTOPLASMIC.\n",
      "FT   TRANSMEM     18     39       \n",
      "FT   TOPO_DOM     40     60       CYTOPLASMIC.\n",
      "//\n",
      "ID   YIL011W\n",
      "FT   SIGNAL        1     22       \n",
      "FT   REGION        1      5       N-REGION.\n",
      "FT   REGION        6     17       H-REGION.\n",
      "FT   REGION       18     22       C-REGION.\n",
      "FT   TOPO_DOM     23     60       NON CYTOPLASMIC.\n",
      "//\n",
      "</pre>\n"
     ]
    }
   ],
   "source": [
    "# parse response to get all data in <pre> tag\n",
    "soup = bs(response.text, 'html.parser')\n",
    "out = soup.find('pre')\n",
    "print(out)"
   ]
  },
  {
   "cell_type": "code",
   "execution_count": 47,
   "metadata": {},
   "outputs": [
    {
     "data": {
      "text/plain": [
       "[[['ID', 'YMR256C'],\n",
       "  ['FT', 'TOPO_DOM', '1', '27', 'NON', 'CYTOPLASMIC.'],\n",
       "  ['FT', 'TRANSMEM', '28', '48'],\n",
       "  ['FT', 'TOPO_DOM', '49', '60', 'CYTOPLASMIC.']],\n",
       " [['ID', 'YEL064C'], ['FT', 'TOPO_DOM', '1', '60', 'NON', 'CYTOPLASMIC.']],\n",
       " [['ID', 'YPR156C'], ['FT', 'TOPO_DOM', '1', '60', 'NON', 'CYTOPLASMIC.']],\n",
       " [['ID', 'YOR003W'],\n",
       "  ['FT', 'SIGNAL', '1', '17'],\n",
       "  ['FT', 'REGION', '1', '2', 'N-REGION.'],\n",
       "  ['FT', 'REGION', '3', '12', 'H-REGION.'],\n",
       "  ['FT', 'REGION', '13', '17', 'C-REGION.'],\n",
       "  ['FT', 'TOPO_DOM', '18', '60', 'NON', 'CYTOPLASMIC.']],\n",
       " [['ID', 'YER087C-B'], ['FT', 'TOPO_DOM', '1', '60', 'NON', 'CYTOPLASMIC.']],\n",
       " [['ID', 'YAR066W'],\n",
       "  ['FT', 'SIGNAL', '1', '23'],\n",
       "  ['FT', 'REGION', '1', '7', 'N-REGION.'],\n",
       "  ['FT', 'REGION', '8', '18', 'H-REGION.'],\n",
       "  ['FT', 'REGION', '19', '23', 'C-REGION.'],\n",
       "  ['FT', 'TOPO_DOM', '24', '60', 'NON', 'CYTOPLASMIC.']],\n",
       " [['ID', 'YHR215W'],\n",
       "  ['FT', 'SIGNAL', '1', '17'],\n",
       "  ['FT', 'REGION', '1', '3', 'N-REGION.'],\n",
       "  ['FT', 'REGION', '4', '12', 'H-REGION.'],\n",
       "  ['FT', 'REGION', '13', '17', 'C-REGION.'],\n",
       "  ['FT', 'TOPO_DOM', '18', '60', 'NON', 'CYTOPLASMIC.']],\n",
       " [['ID', 'YEL004W'],\n",
       "  ['FT', 'SIGNAL', '1', '21'],\n",
       "  ['FT', 'REGION', '1', '6', 'N-REGION.'],\n",
       "  ['FT', 'REGION', '7', '16', 'H-REGION.'],\n",
       "  ['FT', 'REGION', '17', '21', 'C-REGION.'],\n",
       "  ['FT', 'TOPO_DOM', '22', '60', 'NON', 'CYTOPLASMIC.']],\n",
       " [['ID', 'YDR329C'],\n",
       "  ['FT', 'TOPO_DOM', '1', '17', 'NON', 'CYTOPLASMIC.'],\n",
       "  ['FT', 'TRANSMEM', '18', '39'],\n",
       "  ['FT', 'TOPO_DOM', '40', '60', 'CYTOPLASMIC.']],\n",
       " [['ID', 'YIL011W'],\n",
       "  ['FT', 'SIGNAL', '1', '22'],\n",
       "  ['FT', 'REGION', '1', '5', 'N-REGION.'],\n",
       "  ['FT', 'REGION', '6', '17', 'H-REGION.'],\n",
       "  ['FT', 'REGION', '18', '22', 'C-REGION.'],\n",
       "  ['FT', 'TOPO_DOM', '23', '60', 'NON', 'CYTOPLASMIC.']]]"
      ]
     },
     "execution_count": 47,
     "metadata": {},
     "output_type": "execute_result"
    }
   ],
   "source": [
    "# right -> left:\n",
    "# splits output text into list of protein outputs \n",
    "# then splits each protein output into list of non-empty lines and collapses whitespace\n",
    "out_split = [[y.split() for y in x.split(\"\\n\") if y != ''] for x in out.text.split(\"//\")][:-1]\n",
    "out_split"
   ]
  },
  {
   "cell_type": "code",
   "execution_count": 51,
   "metadata": {},
   "outputs": [],
   "source": [
    "if len(out_split) != len(ten_protein_fasta.split(\">\")) - 1:\n",
    "    raise Exception(\"Number of proteins in output does not match number of proteins in input\")"
   ]
  },
  {
   "cell_type": "code",
   "execution_count": null,
   "metadata": {},
   "outputs": [],
   "source": []
  }
 ],
 "metadata": {
  "kernelspec": {
   "display_name": "R",
   "language": "python",
   "name": "python3"
  },
  "language_info": {
   "codemirror_mode": {
    "name": "ipython",
    "version": 3
   },
   "file_extension": ".py",
   "mimetype": "text/x-python",
   "name": "python",
   "nbconvert_exporter": "python",
   "pygments_lexer": "ipython3",
   "version": "3.11.3"
  },
  "orig_nbformat": 4
 },
 "nbformat": 4,
 "nbformat_minor": 2
}
